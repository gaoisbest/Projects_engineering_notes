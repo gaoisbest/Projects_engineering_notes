{
 "cells": [
  {
   "cell_type": "markdown",
   "metadata": {},
   "source": [
    "Here we focus on **list comprehension**. Python version is 2.7."
   ]
  },
  {
   "cell_type": "markdown",
   "metadata": {},
   "source": [
    "One example list:"
   ]
  },
  {
   "cell_type": "code",
   "execution_count": 1,
   "metadata": {
    "collapsed": false
   },
   "outputs": [
    {
     "name": "stdout",
     "output_type": "stream",
     "text": [
      "[1, 2, 3, 4]\n"
     ]
    }
   ],
   "source": [
    "nums = range(1, 5)\n",
    "print(nums)"
   ]
  },
  {
   "cell_type": "markdown",
   "metadata": {},
   "source": [
    "# **List comprehension** example\n",
    "each element plus one\n",
    "\n",
    "See: https://docs.python.org/3/reference/expressions.html#displays-for-lists-sets-and-dictionaries"
   ]
  },
  {
   "cell_type": "code",
   "execution_count": 2,
   "metadata": {
    "collapsed": false
   },
   "outputs": [
    {
     "name": "stdout",
     "output_type": "stream",
     "text": [
      "[2, 3, 4, 5]\n"
     ]
    }
   ],
   "source": [
    "plus_one_nums = [ele + 1 for ele in nums]\n",
    "print(plus_one_nums)"
   ]
  },
  {
   "cell_type": "markdown",
   "metadata": {},
   "source": [
    "### List comprehension with **`if`** condition\n",
    "obtain odd numbers.\n",
    "Please note that `if` is after `for` loop."
   ]
  },
  {
   "cell_type": "code",
   "execution_count": 3,
   "metadata": {
    "collapsed": false
   },
   "outputs": [
    {
     "name": "stdout",
     "output_type": "stream",
     "text": [
      "[1, 3]\n"
     ]
    }
   ],
   "source": [
    "odd_nums = [ele for ele in nums if ele % 2 == 1]\n",
    "print(odd_nums)\n",
    "\n",
    "# WRONG\n",
    "# odd_nums = [ele if ele % 2 == 1 for ele in nums]"
   ]
  },
  {
   "cell_type": "markdown",
   "metadata": {},
   "source": [
    "### **Conditional expression** with `if` and `else`\n",
    "Note that `if` and `else` here called **conditional expression**, which itself is not belong comprehension syntax. See: https://stackoverflow.com/questions/4260280/if-else-in-pythons-list-comprehension"
   ]
  },
  {
   "cell_type": "code",
   "execution_count": 4,
   "metadata": {
    "collapsed": false
   },
   "outputs": [
    {
     "name": "stdout",
     "output_type": "stream",
     "text": [
      "[1, -1, 3, -1]\n"
     ]
    }
   ],
   "source": [
    "even_nums_rep_by_neg_one = [ele if ele % 2 == 1 else -1 for ele in nums]\n",
    "print(even_nums_rep_by_neg_one)"
   ]
  },
  {
   "cell_type": "markdown",
   "metadata": {},
   "source": [
    "### **List comprehension with two `for` loop**\n",
    "Please note that the order of them. Just for an example, there is only one element (i.e., `i`) for each second loop."
   ]
  },
  {
   "cell_type": "code",
   "execution_count": 5,
   "metadata": {
    "collapsed": false
   },
   "outputs": [
    {
     "name": "stdout",
     "output_type": "stream",
     "text": [
      "[1, 3]\n"
     ]
    }
   ],
   "source": [
    "odd_nums_two_loops = [ele for i in nums for ele in range(i, i+1) if ele % 2 == 1]\n",
    "print(odd_nums_two_loops)"
   ]
  },
  {
   "cell_type": "markdown",
   "metadata": {},
   "source": [
    "### **Conditional expression with two `for` loop**"
   ]
  },
  {
   "cell_type": "code",
   "execution_count": 6,
   "metadata": {
    "collapsed": false
   },
   "outputs": [
    {
     "name": "stdout",
     "output_type": "stream",
     "text": [
      "[1, -1, 3, -1]\n"
     ]
    }
   ],
   "source": [
    "even_nums_rep_by_neg_one_two_loops = [ele if ele % 2 == 1 else -1 for i in nums for ele in range(i, i+1)]\n",
    "print(even_nums_rep_by_neg_one_two_loops)"
   ]
  },
  {
   "cell_type": "markdown",
   "metadata": {},
   "source": [
    "# **Set comprehension** example\n",
    "the square of each element. Note that the elements are **unordered**."
   ]
  },
  {
   "cell_type": "code",
   "execution_count": 7,
   "metadata": {
    "collapsed": false
   },
   "outputs": [
    {
     "name": "stdout",
     "output_type": "stream",
     "text": [
      "set([16, 1, 4, 9])\n"
     ]
    }
   ],
   "source": [
    "nums_square_set = {ele ** 2 for ele in nums}\n",
    "print(nums_square_set)"
   ]
  },
  {
   "cell_type": "markdown",
   "metadata": {},
   "source": [
    "# Dict comprehension example\n",
    "(key:value) = (element:element square)"
   ]
  },
  {
   "cell_type": "code",
   "execution_count": 8,
   "metadata": {
    "collapsed": false
   },
   "outputs": [
    {
     "name": "stdout",
     "output_type": "stream",
     "text": [
      "{1: 1, 2: 4, 3: 9, 4: 16}\n"
     ]
    }
   ],
   "source": [
    "nums_square_dict = {ele : ele **2 for ele in nums}\n",
    "print(nums_square_dict)"
   ]
  },
  {
   "cell_type": "markdown",
   "metadata": {},
   "source": [
    "### Dict comprehension with **tuple key**\n",
    "One of the most important differences between `list` and `tuple` is that `tuple` can be used as `key` in `dict` or element in `set`, while `list` cannot. See http://cs231n.github.io/python-numpy-tutorial/."
   ]
  },
  {
   "cell_type": "code",
   "execution_count": 9,
   "metadata": {
    "collapsed": false
   },
   "outputs": [
    {
     "name": "stdout",
     "output_type": "stream",
     "text": [
      "{(1, 2): 1, (3, 4): 9, (2, 3): 4, (4, 5): 16}\n"
     ]
    }
   ],
   "source": [
    "nums_square_dict_tuple_key = {(ele, ele+1) : ele **2 for ele in nums}\n",
    "print(nums_square_dict_tuple_key)"
   ]
  },
  {
   "cell_type": "code",
   "execution_count": null,
   "metadata": {
    "collapsed": true
   },
   "outputs": [],
   "source": []
  }
 ],
 "metadata": {
  "kernelspec": {
   "display_name": "Python 2",
   "language": "python",
   "name": "python2"
  },
  "language_info": {
   "codemirror_mode": {
    "name": "ipython",
    "version": 2
   },
   "file_extension": ".py",
   "mimetype": "text/x-python",
   "name": "python",
   "nbconvert_exporter": "python",
   "pygments_lexer": "ipython2",
   "version": "2.7.13"
  }
 },
 "nbformat": 4,
 "nbformat_minor": 2
}
