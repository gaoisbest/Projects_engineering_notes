{
 "cells": [
  {
   "cell_type": "markdown",
   "metadata": {},
   "source": [
    "# Generator\n",
    "\n",
    "* two types of generators: **generator function (with yield)** and **generator expression**\n",
    "* a generator is an Iterable / Iterator\n",
    "* `next` to get next value"
   ]
  },
  {
   "cell_type": "code",
   "execution_count": 1,
   "metadata": {
    "collapsed": false
   },
   "outputs": [
    {
     "name": "stdout",
     "output_type": "stream",
     "text": [
      "True\n",
      "True\n",
      "True\n",
      "a\n",
      "b\n",
      "c\n"
     ]
    },
    {
     "ename": "StopIteration",
     "evalue": "",
     "output_type": "error",
     "traceback": [
      "\u001b[0;31m---------------------------------------------------------------------------\u001b[0m",
      "\u001b[0;31mStopIteration\u001b[0m                             Traceback (most recent call last)",
      "\u001b[0;32m<ipython-input-1-504b397f244a>\u001b[0m in \u001b[0;36m<module>\u001b[0;34m()\u001b[0m\n\u001b[1;32m     11\u001b[0m     \u001b[1;32mprint\u001b[0m\u001b[1;33m(\u001b[0m\u001b[0mnext\u001b[0m\u001b[1;33m(\u001b[0m\u001b[0mlist_exam_gen\u001b[0m\u001b[1;33m)\u001b[0m\u001b[1;33m)\u001b[0m \u001b[1;31m# b\u001b[0m\u001b[1;33m\u001b[0m\u001b[0m\n\u001b[1;32m     12\u001b[0m     \u001b[1;32mprint\u001b[0m\u001b[1;33m(\u001b[0m\u001b[0mnext\u001b[0m\u001b[1;33m(\u001b[0m\u001b[0mlist_exam_gen\u001b[0m\u001b[1;33m)\u001b[0m\u001b[1;33m)\u001b[0m \u001b[1;31m# c\u001b[0m\u001b[1;33m\u001b[0m\u001b[0m\n\u001b[0;32m---> 13\u001b[0;31m     \u001b[1;32mprint\u001b[0m\u001b[1;33m(\u001b[0m\u001b[0mnext\u001b[0m\u001b[1;33m(\u001b[0m\u001b[0mlist_exam_gen\u001b[0m\u001b[1;33m)\u001b[0m\u001b[1;33m)\u001b[0m \u001b[1;31m# StopIteration\u001b[0m\u001b[1;33m\u001b[0m\u001b[0m\n\u001b[0m",
      "\u001b[0;31mStopIteration\u001b[0m: "
     ]
    }
   ],
   "source": [
    "import types\n",
    "from collections import Iterable, Iterator\n",
    "\n",
    "if __name__ == '__main__':\n",
    "    list_exam = ['a', 'b', 'c']\n",
    "    list_exam_gen = (e for e in list_exam) # generation expression\n",
    "    print(isinstance(list_exam_gen, types.GeneratorType)) # True\n",
    "    print(isinstance(list_exam_gen, Iterator)) # True\n",
    "    print(isinstance(list_exam_gen, Iterable)) # True\n",
    "    print(next(list_exam_gen)) # a\n",
    "    print(next(list_exam_gen)) # b\n",
    "    print(next(list_exam_gen)) # c\n",
    "    print(next(list_exam_gen)) # StopIteration"
   ]
  },
  {
   "cell_type": "markdown",
   "metadata": {},
   "source": [
    "## `yield` give a generator, when to use `yield` instead of `return` ?\n",
    "When you want to iterate over a sequence, but don’t want to store the entire sequence in memory. Note, you can only iterate over them once (because it does not store the values in memory).\n",
    "\n",
    "`list(generator)` to read all data into memroy."
   ]
  },
  {
   "cell_type": "code",
   "execution_count": 5,
   "metadata": {
    "collapsed": false
   },
   "outputs": [
    {
     "name": "stdout",
     "output_type": "stream",
     "text": [
      "True\n",
      "a\r\n",
      "\n",
      "b\r\n",
      "\n",
      "c\r\n",
      "\n",
      "b\r\n",
      "\n",
      "e\r\n",
      "\n",
      "f\r\n",
      "\n",
      "g\r\n",
      "\n",
      "====================================================================================================\n",
      "a\r\n",
      "\n",
      "b\r\n",
      "\n",
      "c\r\n",
      "\n",
      "b\r\n",
      "\n",
      "e\r\n",
      "\n",
      "f\r\n",
      "\n",
      "g\r\n",
      "\n"
     ]
    }
   ],
   "source": [
    "import codecs\n",
    "import types\n",
    "\n",
    "def read_file(filepath):\n",
    "    file_content = codecs.open(filename=filepath, mode='r', encoding='utf-8')\n",
    "    for each_line in file_content:\n",
    "        yield each_line\n",
    "\n",
    "if __name__ == '__main__':\n",
    "    print(isinstance(read_file(filepath='Python_1_test_file.txt'), types.GeneratorType)) # True\n",
    "    for each_line in read_file(filepath='Python_1_test_file.txt'):\n",
    "        print(each_line)\n",
    "    \n",
    "    print('='*100)\n",
    "    all_lines = list(read_file(filepath='Python_1_test_file.txt')) # list() get all data\n",
    "    for each_line in all_lines:\n",
    "        print(each_line)"
   ]
  },
  {
   "cell_type": "markdown",
   "metadata": {},
   "source": [
    "# Iterable\n",
    "\n",
    "* we can use `for... in...` to iterate Iterable\n",
    "* `str`, `list`, `tuple`, `set`, `dict` all are Iterable"
   ]
  },
  {
   "cell_type": "code",
   "execution_count": 2,
   "metadata": {
    "collapsed": false
   },
   "outputs": [
    {
     "name": "stdout",
     "output_type": "stream",
     "text": [
      "True\n",
      "True\n",
      "True\n",
      "True\n",
      "True\n"
     ]
    }
   ],
   "source": [
    "from collections import Iterable\n",
    "\n",
    "if __name__ == '__main__':\n",
    "    str_exam = 'abc'\n",
    "    print(isinstance(str_exam, Iterable)) # True\n",
    "    list_exam = ['a', 'b', 'c']\n",
    "    print(isinstance(list_exam, Iterable)) # True\n",
    "    tuple_exam = ('a', 'b', 'c')\n",
    "    print(isinstance(tuple_exam, Iterable)) # True\n",
    "    set_exam = set(['a', 'b', 'c'])\n",
    "    print(isinstance(set_exam, Iterable)) # True\n",
    "    dict_exam = {1:'a', 2:'b', 3:'c'}\n",
    "    print(isinstance(dict_exam, Iterable)) # True"
   ]
  },
  {
   "cell_type": "markdown",
   "metadata": {},
   "source": [
    "# Iterator\n",
    "\n",
    "* get Iterator by calling `iter` on Iterable\n",
    "* an Iterator is an Iterable\n",
    "* `next` to get next value"
   ]
  },
  {
   "cell_type": "code",
   "execution_count": 3,
   "metadata": {
    "collapsed": false
   },
   "outputs": [
    {
     "name": "stdout",
     "output_type": "stream",
     "text": [
      "True\n",
      "True\n",
      "True\n",
      "a\n",
      "b\n",
      "c\n"
     ]
    },
    {
     "ename": "StopIteration",
     "evalue": "",
     "output_type": "error",
     "traceback": [
      "\u001b[0;31m---------------------------------------------------------------------------\u001b[0m",
      "\u001b[0;31mStopIteration\u001b[0m                             Traceback (most recent call last)",
      "\u001b[0;32m<ipython-input-3-0c2c97c5e254>\u001b[0m in \u001b[0;36m<module>\u001b[0;34m()\u001b[0m\n\u001b[1;32m     10\u001b[0m     \u001b[1;32mprint\u001b[0m\u001b[1;33m(\u001b[0m\u001b[0mnext\u001b[0m\u001b[1;33m(\u001b[0m\u001b[0mlist_iterator\u001b[0m\u001b[1;33m)\u001b[0m\u001b[1;33m)\u001b[0m \u001b[1;31m# b\u001b[0m\u001b[1;33m\u001b[0m\u001b[0m\n\u001b[1;32m     11\u001b[0m     \u001b[1;32mprint\u001b[0m\u001b[1;33m(\u001b[0m\u001b[0mnext\u001b[0m\u001b[1;33m(\u001b[0m\u001b[0mlist_iterator\u001b[0m\u001b[1;33m)\u001b[0m\u001b[1;33m)\u001b[0m \u001b[1;31m# c\u001b[0m\u001b[1;33m\u001b[0m\u001b[0m\n\u001b[0;32m---> 12\u001b[0;31m     \u001b[1;32mprint\u001b[0m\u001b[1;33m(\u001b[0m\u001b[0mnext\u001b[0m\u001b[1;33m(\u001b[0m\u001b[0mlist_iterator\u001b[0m\u001b[1;33m)\u001b[0m\u001b[1;33m)\u001b[0m \u001b[1;31m# StopIteration\u001b[0m\u001b[1;33m\u001b[0m\u001b[0m\n\u001b[0m",
      "\u001b[0;31mStopIteration\u001b[0m: "
     ]
    }
   ],
   "source": [
    "from collections import Iterator, Iterable\n",
    "\n",
    "if __name__ == '__main__':\n",
    "    list_exam = ['a', 'b', 'c']\n",
    "    list_iterator = iter(list_exam)\n",
    "    print(isinstance(list_iterator, Iterator)) # True\n",
    "    print(isinstance(list_iterator, Iterable))  # True\n",
    "    print(issubclass(Iterator, Iterable)) # True\n",
    "    print(next(list_iterator)) # a\n",
    "    print(next(list_iterator)) # b\n",
    "    print(next(list_iterator)) # c\n",
    "    print(next(list_iterator)) # StopIteration"
   ]
  },
  {
   "cell_type": "markdown",
   "metadata": {},
   "source": [
    "# References:\n",
    "\n",
    "https://stackoverflow.com/questions/7883962/where-to-use-yield-in-python-best\n",
    "\n",
    "https://stackoverflow.com/questions/231767/what-does-the-yield-keyword-do\n",
    "\n",
    "https://stackoverflow.com/questions/2776829/difference-between-pythons-generators-and-iterators\n",
    "\n",
    "https://stackoverflow.com/questions/6416538/how-to-check-if-an-object-is-a-generator-object-in-python\n",
    "\n",
    "https://stackoverflow.com/questions/2776829/difference-between-pythons-generators-and-iterators\n",
    "\n",
    "http://nvie.com/posts/iterators-vs-generators/"
   ]
  },
  {
   "cell_type": "code",
   "execution_count": null,
   "metadata": {
    "collapsed": true
   },
   "outputs": [],
   "source": []
  }
 ],
 "metadata": {
  "kernelspec": {
   "display_name": "Python 2",
   "language": "python",
   "name": "python2"
  },
  "language_info": {
   "codemirror_mode": {
    "name": "ipython",
    "version": 2
   },
   "file_extension": ".py",
   "mimetype": "text/x-python",
   "name": "python",
   "nbconvert_exporter": "python",
   "pygments_lexer": "ipython2",
   "version": "2.7.13"
  }
 },
 "nbformat": 4,
 "nbformat_minor": 2
}
