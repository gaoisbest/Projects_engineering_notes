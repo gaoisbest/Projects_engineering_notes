{
 "cells": [
  {
   "cell_type": "markdown",
   "metadata": {},
   "source": [
    "Here we focus on **property** decorator. Python version is 2.7."
   ]
  },
  {
   "cell_type": "markdown",
   "metadata": {},
   "source": [
    "`setter` and `getter` are commonly used in Java. However, `property` decorator plays the same role in Python.\n",
    "\n",
    "The following codes first define a class `Girl`, and it has `name` and `__age` arrtibutes. `property` decorator decorates `age_val` method, which make `age_val` **method** to be a **arrtibute**. Then, we can get the `__age` attribute. But, we cannot assign new value to `age_val`."
   ]
  },
  {
   "cell_type": "code",
   "execution_count": 1,
   "metadata": {
    "collapsed": false
   },
   "outputs": [
    {
     "name": "stdout",
     "output_type": "stream",
     "text": [
      "hanmeimei\n",
      "20\n"
     ]
    },
    {
     "ename": "AttributeError",
     "evalue": "can't set attribute",
     "output_type": "error",
     "traceback": [
      "\u001b[0;31m---------------------------------------------------------------------------\u001b[0m",
      "\u001b[0;31mAttributeError\u001b[0m                            Traceback (most recent call last)",
      "\u001b[0;32m<ipython-input-1-20adc9399d6b>\u001b[0m in \u001b[0;36m<module>\u001b[0;34m()\u001b[0m\n\u001b[1;32m     12\u001b[0m     \u001b[1;32mprint\u001b[0m\u001b[1;33m(\u001b[0m\u001b[0mhmm\u001b[0m\u001b[1;33m.\u001b[0m\u001b[0mname\u001b[0m\u001b[1;33m)\u001b[0m \u001b[1;31m# hanmeimei\u001b[0m\u001b[1;33m\u001b[0m\u001b[0m\n\u001b[1;32m     13\u001b[0m     \u001b[1;32mprint\u001b[0m\u001b[1;33m(\u001b[0m\u001b[0mhmm\u001b[0m\u001b[1;33m.\u001b[0m\u001b[0mage_val\u001b[0m\u001b[1;33m)\u001b[0m \u001b[1;31m# 20\u001b[0m\u001b[1;33m\u001b[0m\u001b[0m\n\u001b[0;32m---> 14\u001b[0;31m     \u001b[0mhmm\u001b[0m\u001b[1;33m.\u001b[0m\u001b[0mage_val\u001b[0m \u001b[1;33m=\u001b[0m \u001b[1;36m25\u001b[0m \u001b[1;31m# AttributeError: can't set attribute\u001b[0m\u001b[1;33m\u001b[0m\u001b[0m\n\u001b[0m\u001b[1;32m     15\u001b[0m     \u001b[1;32mprint\u001b[0m\u001b[1;33m(\u001b[0m\u001b[0mhmm\u001b[0m\u001b[1;33m.\u001b[0m\u001b[0mage_val\u001b[0m\u001b[1;33m)\u001b[0m\u001b[1;33m\u001b[0m\u001b[0m\n",
      "\u001b[0;31mAttributeError\u001b[0m: can't set attribute"
     ]
    }
   ],
   "source": [
    "class Girl(object):\n",
    "    def __init__(self, name):\n",
    "        self.name = name\n",
    "        self.__age = 20 # private variable\n",
    "\n",
    "    @property\n",
    "    def age_val(self):\n",
    "        return self.__age\n",
    "\n",
    "if __name__ == '__main__':\n",
    "    hmm = Girl('hanmeimei')\n",
    "    print(hmm.name) # hanmeimei\n",
    "    print(hmm.age_val) # 20\n",
    "    hmm.age_val = 25 # AttributeError: can't set attribute\n",
    "    print(hmm.age_val)    "
   ]
  },
  {
   "cell_type": "markdown",
   "metadata": {},
   "source": [
    "We can add **`age_val.setter`** to decorate another `age_val` function to assign new values to `__age`. Moreover, value checker can be performed."
   ]
  },
  {
   "cell_type": "code",
   "execution_count": null,
   "metadata": {
    "collapsed": false
   },
   "outputs": [],
   "source": [
    "class Girl(object):\n",
    "    def __init__(self, name):\n",
    "        self.name = name\n",
    "        self.__age = 20 # private variable\n",
    "\n",
    "    @property\n",
    "    def age_val(self):\n",
    "        return self.__age\n",
    "    \n",
    "    @age_val.setter\n",
    "    def age_val(self, value):\n",
    "        if not isinstance(value, int):\n",
    "            raise ValueError('Age_val value should be int')\n",
    "        elif value < 0:\n",
    "            raise ValueError('Age_val should be positive')\n",
    "        self.__age = value\n",
    "\n",
    "if __name__ == '__main__':\n",
    "    hmm = Girl('hanmeimei')\n",
    "    print(hmm.name) # hanmeimei\n",
    "    print(hmm.age_val) # 20\n",
    "    hmm.age_val = 25\n",
    "    print(hmm.age_val) # 25    "
   ]
  },
  {
   "cell_type": "markdown",
   "metadata": {},
   "source": [
    "Moreover, we can add **`age_val.deleter`** to decorate `age_val` to delete this arrribute."
   ]
  },
  {
   "cell_type": "code",
   "execution_count": null,
   "metadata": {
    "collapsed": false
   },
   "outputs": [],
   "source": [
    "class Girl(object):\n",
    "    def __init__(self, name):\n",
    "        self.name = name\n",
    "        self.__age = 20 # private variable\n",
    "\n",
    "    @property\n",
    "    def age_val(self):\n",
    "        return self.__age\n",
    "    \n",
    "    @age_val.setter\n",
    "    def age_val(self, value):\n",
    "        if not isinstance(value, int):\n",
    "            raise ValueError('Age value should be int')\n",
    "        elif value < 0:\n",
    "            raise ValueError('Age should be positive')\n",
    "        self.__age = value\n",
    "    \n",
    "    @age_val.deleter\n",
    "    def age_val(self):\n",
    "        del self.__age\n",
    "\n",
    "if __name__ == '__main__':\n",
    "    hmm = Girl('hanmeimei')\n",
    "    print(hmm.name) # hanmeimei\n",
    "    print(hmm.age_val) # 20\n",
    "    hmm.age_val = 25\n",
    "    print(hmm.age_val) # 25\n",
    "    del hmm.age_val\n",
    "    print(hmm.age_val) # AttributeError: 'Girl' object has no attribute '_Girl__age'    "
   ]
  },
  {
   "cell_type": "markdown",
   "metadata": {},
   "source": [
    "So, what is **decorator**? First, it is a **function**. Second, it can decorate its **parameter** (which is another function). See [here](http://blog.apcelent.com/python-decorator-tutorial-with-example.html) for more details."
   ]
  },
  {
   "cell_type": "code",
   "execution_count": null,
   "metadata": {
    "collapsed": false
   },
   "outputs": [],
   "source": [
    "def function_decorator(input_func):\n",
    "    # input_func is print_name\n",
    "    def inner(girl_instance):\n",
    "        # girl_instance is Girl.self\n",
    "        if girl_instance.name == 'hanmeimei':\n",
    "            print('The age of hanmeimei is: %s' % girl_instance.ages)\n",
    "        else:\n",
    "            input_func(girl_instance)\n",
    "    return inner\n",
    "\n",
    "class Girl(object):\n",
    "    def __init__(self, name):\n",
    "        self.name = name\n",
    "        self.__age = 20\n",
    "\n",
    "    @function_decorator\n",
    "    def print_name(self):\n",
    "        print(self.name)\n",
    "\n",
    "    @property\n",
    "    def ages(self):\n",
    "        return self.__age\n",
    "\n",
    "if __name__ == '__main__':\n",
    "    hanmeimei = Girl('hanmeimei')\n",
    "    hanmeimei.print_name() # The age of hanmeimei is: 20\n",
    "    lilei = Girl('lilei')\n",
    "    lilei.print_name() # lilei    "
   ]
  },
  {
   "cell_type": "code",
   "execution_count": null,
   "metadata": {
    "collapsed": true
   },
   "outputs": [],
   "source": []
  }
 ],
 "metadata": {
  "kernelspec": {
   "display_name": "Python 2",
   "language": "python",
   "name": "python2"
  },
  "language_info": {
   "codemirror_mode": {
    "name": "ipython",
    "version": 2
   },
   "file_extension": ".py",
   "mimetype": "text/x-python",
   "name": "python",
   "nbconvert_exporter": "python",
   "pygments_lexer": "ipython2",
   "version": "2.7.13"
  }
 },
 "nbformat": 4,
 "nbformat_minor": 2
}
