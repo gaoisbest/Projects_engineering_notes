{
 "cells": [
  {
   "cell_type": "markdown",
   "metadata": {},
   "source": [
    "Numpy array: **data buffer** (static) + **view** (dynamic by `reshape`). \n",
    "\n",
    "see: https://stackoverflow.com/questions/22053050/difference-between-numpy-array-shape-r-1-and-r"
   ]
  },
  {
   "cell_type": "code",
   "execution_count": 1,
   "metadata": {
    "collapsed": true
   },
   "outputs": [],
   "source": [
    "import numpy as np"
   ]
  },
  {
   "cell_type": "markdown",
   "metadata": {},
   "source": [
    "## Rank 1 array example"
   ]
  },
  {
   "cell_type": "code",
   "execution_count": 2,
   "metadata": {
    "collapsed": false
   },
   "outputs": [
    {
     "name": "stdout",
     "output_type": "stream",
     "text": [
      "1\n",
      "(4L,)\n",
      "int32\n"
     ]
    }
   ],
   "source": [
    "arr_1 = np.array([7, 8, 9, 10])\n",
    "print(arr_1.ndim) # rank 1\n",
    "print(arr_1.shape)\n",
    "print(arr_1.dtype)"
   ]
  },
  {
   "cell_type": "markdown",
   "metadata": {},
   "source": [
    "What's the meaning of **`(4L,)`** ? It means `arr_1` is indexed by a **single index** which range is from 0 to 3.\n",
    "\n",
    "![image](https://github.com/gaoisbest/Python_notes/blob/master/Numpy_1_ndarray_shape_rank_1.png)"
   ]
  },
  {
   "cell_type": "markdown",
   "metadata": {},
   "source": [
    "## Rank 2 array example"
   ]
  },
  {
   "cell_type": "code",
   "execution_count": 3,
   "metadata": {
    "collapsed": false
   },
   "outputs": [
    {
     "name": "stdout",
     "output_type": "stream",
     "text": [
      "2\n",
      "(2L, 2L)\n",
      "9\n"
     ]
    }
   ],
   "source": [
    "arr_2 = arr_1.reshape((2,2))\n",
    "print(arr_2.ndim)\n",
    "print(arr_2.shape)\n",
    "print(arr_2[1, 0])"
   ]
  },
  {
   "cell_type": "markdown",
   "metadata": {},
   "source": [
    "`arr_2` is indexed by two indices *`i`* and *`j`*. But index *`i`* changes **slowly** and index *`j`* changes **quickly**. It depends on the `reshape` parameter `order`, which default value is `'C'`.\n",
    "\n",
    "see: https://docs.scipy.org/doc/numpy/reference/generated/numpy.reshape.html\n",
    "\n",
    "![ ](https://github.com/gaoisbest/Python_notes/blob/master/Numpy_1_ndarray shape_rank 2.png)"
   ]
  },
  {
   "cell_type": "markdown",
   "metadata": {},
   "source": [
    "## Rank 5 array example"
   ]
  },
  {
   "cell_type": "code",
   "execution_count": 4,
   "metadata": {
    "collapsed": false
   },
   "outputs": [
    {
     "name": "stdout",
     "output_type": "stream",
     "text": [
      "5\n",
      "(1L, 2L, 3L, 1L, 2L)\n",
      "5\n",
      "7\n"
     ]
    }
   ],
   "source": [
    "arr_3 = np.array([range(12)]).reshape((1,2,3,1,2))\n",
    "print(arr_3.ndim)\n",
    "print(arr_3.shape)\n",
    "print(arr_3[0, 0, 2, 0, 1])\n",
    "print(arr_3[0, 1, 0, 0, 1])"
   ]
  },
  {
   "cell_type": "markdown",
   "metadata": {},
   "source": [
    "A dimension of length 1 is **free**. Just as rank 2 array example, index *`i`* changes slowly and index *`j`* changes quickly. What's special of index *`k`* is it changes **moderately**.\n",
    "\n",
    "Why ? It's because `order='C'` means to read / write the elements using C-like index order, with the last axis index changing fastest, back to the first axis index changing slowest. \n",
    "\n",
    "see: https://docs.scipy.org/doc/numpy/reference/generated/numpy.reshape.html\n",
    "\n",
    "![](Numpy_1_ndarray shape_rank 5.png)"
   ]
  },
  {
   "cell_type": "code",
   "execution_count": null,
   "metadata": {
    "collapsed": true
   },
   "outputs": [],
   "source": []
  }
 ],
 "metadata": {
  "kernelspec": {
   "display_name": "Python 2",
   "language": "python",
   "name": "python2"
  },
  "language_info": {
   "codemirror_mode": {
    "name": "ipython",
    "version": 2
   },
   "file_extension": ".py",
   "mimetype": "text/x-python",
   "name": "python",
   "nbconvert_exporter": "python",
   "pygments_lexer": "ipython2",
   "version": "2.7.13"
  }
 },
 "nbformat": 4,
 "nbformat_minor": 2
}
